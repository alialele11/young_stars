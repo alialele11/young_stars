{
 "cells": [
  {
   "cell_type": "code",
   "execution_count": 2,
   "metadata": {},
   "outputs": [
    {
     "name": "stdout",
     "output_type": "stream",
     "text": [
      "INFO: Pandarallel will run on 10 workers.\n",
      "INFO: Pandarallel will use Memory file system to transfer data between the main process and workers.\n"
     ]
    }
   ],
   "source": [
    "import pandas as pd\n",
    "from tqdm import tqdm\n",
    "from pandarallel import pandarallel\n",
    "\n",
    "pandarallel.initialize(progress_bar=True)\n",
    "\n",
    "DATA_ROOT = '../data'"
   ]
  },
  {
   "cell_type": "code",
   "execution_count": 3,
   "metadata": {},
   "outputs": [
    {
     "data": {
      "text/plain": [
       "(69173886, 4)"
      ]
     },
     "execution_count": 3,
     "metadata": {},
     "output_type": "execute_result"
    }
   ],
   "source": [
    "# Read in the data\n",
    "df_db = pd.read_csv(f'{DATA_ROOT}/raw/DS_train/DS_train(2020-06--2022-06-01).csv', engine=\"pyarrow\", delimiter='\\t')\n",
    "df_db.shape"
   ]
  },
  {
   "cell_type": "code",
   "execution_count": 4,
   "metadata": {},
   "outputs": [
    {
     "name": "stdout",
     "output_type": "stream",
     "text": [
      "<class 'pandas.core.frame.DataFrame'>\n",
      "RangeIndex: 69173886 entries, 0 to 69173885\n",
      "Data columns (total 4 columns):\n",
      " #   Column        Dtype         \n",
      "---  ------        -----         \n",
      " 0   WebPriceId    int64         \n",
      " 1   DateObserve   datetime64[ns]\n",
      " 2   StockStatus   object        \n",
      " 3   CurrentPrice  float64       \n",
      "dtypes: datetime64[ns](1), float64(1), int64(1), object(1)\n",
      "memory usage: 2.1+ GB\n"
     ]
    }
   ],
   "source": [
    "df_db.info()"
   ]
  },
  {
   "cell_type": "code",
   "execution_count": 5,
   "metadata": {},
   "outputs": [],
   "source": [
    "DATE_COLUMN = \"DateObserve\"\n",
    "PRICE_COLUMN = \"CurrentPrice\"\n",
    "ID_COLUMN = \"WebPriceId\"\n",
    "STOCK_STATUS_COLUMN = \"StockStatus\""
   ]
  },
  {
   "cell_type": "code",
   "execution_count": 6,
   "metadata": {},
   "outputs": [],
   "source": [
    "# Remove webpriceids with less than 10 observations\n",
    "# df_db = df_db.groupby(ID_COLUMN).filter(lambda x: len(x) > 10)"
   ]
  },
  {
   "cell_type": "code",
   "execution_count": 7,
   "metadata": {},
   "outputs": [],
   "source": [
    "def select_data_in_between(df: pd.DataFrame, date_start: str = None, date_end: str = None) -> pd.DataFrame:\n",
    "    \"\"\"\n",
    "    Select data between two dates\n",
    "    \"\"\"\n",
    "    if date_start is None:\n",
    "        date_start = df[DATE_COLUMN].min()\n",
    "    if date_end is None:\n",
    "        date_end = df[DATE_COLUMN].max()\n",
    "    return df[(df[DATE_COLUMN] >= date_start) & (df[DATE_COLUMN] <= date_end)]"
   ]
  },
  {
   "cell_type": "code",
   "execution_count": 8,
   "metadata": {},
   "outputs": [],
   "source": [
    "def find_nearest_to_date_in_series(series: pd.Series, date: str) -> pd.Series:\n",
    "    \"\"\"\n",
    "    Find nearest date in a series\n",
    "    \"\"\"\n",
    "    return series.iloc[(series - pd.to_datetime(date)).abs().argsort()[:1]]"
   ]
  },
  {
   "cell_type": "code",
   "execution_count": 9,
   "metadata": {},
   "outputs": [],
   "source": [
    "# Remove webpriceids with less than 10 observations\n",
    "df_db = df_db[:100000000].groupby(ID_COLUMN).filter(lambda x: len(x) > 10)"
   ]
  },
  {
   "cell_type": "code",
   "execution_count": 10,
   "metadata": {},
   "outputs": [
    {
     "name": "stderr",
     "output_type": "stream",
     "text": [
      "2267it [00:08, 273.08it/s]                         \n"
     ]
    },
    {
     "data": {
      "text/plain": [
       "(0.1250014740746022, 1267)"
      ]
     },
     "execution_count": 10,
     "metadata": {},
     "output_type": "execute_result"
    }
   ],
   "source": [
    "# Реализация бейзлайна\n",
    "def baseline_prediction(df: pd.DataFrame, date: str, k: int = 5000) -> float:\n",
    "    \"\"\"\n",
    "        Предсказание ИПЦ для конца месяца, указанного в date,\n",
    "        на основании данных до date. Среднее по ИПЦ всех отдельных\n",
    "        товаров, рассчитывваемое по формуле\n",
    "\n",
    "        ИПЦ = Цена в date / Цена в date - 1, но месяц назад\n",
    "\n",
    "    Arguments:\n",
    "        df: pd.DataFrame - все данные\n",
    "        date: str - имеет формат \"ГГГГ-ММ-ДД\"\n",
    "        k: int - лимит на количество товаров, по которым считается среднее\n",
    "\n",
    "    Return:\n",
    "        IPC: float - предсказанная ИПЦ за месяц\n",
    "\n",
    "    \"\"\"\n",
    "\n",
    "\n",
    "    # Разбить date на текущий месяц, день и год\n",
    "    year, month, day = date.split('-')\n",
    "\n",
    "    # Выбрать данные от месяца назад до date, использовать pd.Timedelta\n",
    "    df_month = select_data_in_between(df, date_start=pd.to_datetime(date) - pd.Timedelta(days=31), date_end=date)\n",
    "    df_month = df_month[df_month[STOCK_STATUS_COLUMN] == \"InStock\"]\n",
    "\n",
    "    # Выбрать те WebPriceId, записи о которых есть в df_month\n",
    "    ids = df_month[ID_COLUMN].unique()\n",
    "\n",
    "    # Отсеить WebPriceId, у которых меньше 3 записей за этот период\n",
    "    ids = df_month.groupby(ID_COLUMN).filter(lambda x: len(x) > 3)[ID_COLUMN].unique()\n",
    "\n",
    "    ipc_frame = pd.DataFrame()\n",
    "    # Для каждого товара в промежутке посчитать ИПЦ\n",
    "    total_drops = 0\n",
    "    i = 0\n",
    "    for web_price_id in tqdm(ids, total=min(len(ids), k)):\n",
    "        # Если достигнут лимит, то прервать цикл\n",
    "        if i >= k + total_drops:\n",
    "            break\n",
    "        i += 1\n",
    "\n",
    "        # Выбрать данные по WebPriceId\n",
    "        df_id = df_month[df_month[ID_COLUMN] == web_price_id]\n",
    "\n",
    "        # Найти ближайшую стоимость к date и к date - 1 месяц\n",
    "        nearest_date = find_nearest_to_date_in_series(df_id[DATE_COLUMN], date)\n",
    "        nearest_date_prev = find_nearest_to_date_in_series(df_id[DATE_COLUMN], pd.to_datetime(date) - pd.Timedelta(days=29))\n",
    "\n",
    "        # Если nearest_date или nearest_date_prev пустые, то пропустить товар\n",
    "        if nearest_date.empty or nearest_date_prev.empty:\n",
    "            continue\n",
    "\n",
    "        # Отсеить товар, если между краевыми датами меньше 25 дней\n",
    "        days_in_between = (pd.to_datetime(nearest_date.values[0]) - pd.to_datetime(nearest_date_prev.values[0])).days\n",
    "        if days_in_between < 20:\n",
    "            # print('drop: ', days_in_between)\n",
    "            total_drops += 1\n",
    "            continue\n",
    "\n",
    "        # Выбрать стоимость по ближайшей дате\n",
    "        price = df_id[df_id[DATE_COLUMN] == nearest_date.values[0]][PRICE_COLUMN].values[0]\n",
    "        price_prev = df_id[df_id[DATE_COLUMN] == nearest_date_prev.values[0]][PRICE_COLUMN].values[0]\n",
    "        interval = days_in_between\n",
    "\n",
    "        # Посчитать ИПЦ\n",
    "        ipc_frame = pd.concat([ipc_frame, pd.DataFrame([[web_price_id, price, price_prev, interval]])])\n",
    "\n",
    "        # Поправка на интервал между датами\n",
    "        # ipc = ipc ** (30 / days_in_between)\n",
    "\n",
    "    try:\n",
    "        ipc_frame['ipc'] = ipc_frame.apply(lambda x: (x[1] / x[2]) * (30/interval) - 1, axis=1)\n",
    "        return ipc_frame['ipc'].mean(), total_drops\n",
    "    except:\n",
    "        return 0, -1\n",
    "\n",
    "baseline_prediction(df_db, '2021-10-01', k=1000)\n"
   ]
  },
  {
   "cell_type": "code",
   "execution_count": 11,
   "metadata": {},
   "outputs": [
    {
     "data": {
      "text/html": [
       "<div>\n",
       "<style scoped>\n",
       "    .dataframe tbody tr th:only-of-type {\n",
       "        vertical-align: middle;\n",
       "    }\n",
       "\n",
       "    .dataframe tbody tr th {\n",
       "        vertical-align: top;\n",
       "    }\n",
       "\n",
       "    .dataframe thead th {\n",
       "        text-align: right;\n",
       "    }\n",
       "</style>\n",
       "<table border=\"1\" class=\"dataframe\">\n",
       "  <thead>\n",
       "    <tr style=\"text-align: right;\">\n",
       "      <th>ИПЦ, мом</th>\n",
       "      <th>Период</th>\n",
       "      <th>Целевой показатель</th>\n",
       "    </tr>\n",
       "  </thead>\n",
       "  <tbody>\n",
       "    <tr>\n",
       "      <th>0</th>\n",
       "      <td>2020-06-01 00:00:00</td>\n",
       "      <td>0.28</td>\n",
       "    </tr>\n",
       "    <tr>\n",
       "      <th>1</th>\n",
       "      <td>2020-07-01 00:00:00</td>\n",
       "      <td>-0.065</td>\n",
       "    </tr>\n",
       "    <tr>\n",
       "      <th>2</th>\n",
       "      <td>2020-08-01 00:00:00</td>\n",
       "      <td>-0.005</td>\n",
       "    </tr>\n",
       "    <tr>\n",
       "      <th>3</th>\n",
       "      <td>2020-09-01 00:00:00</td>\n",
       "      <td>0.315</td>\n",
       "    </tr>\n",
       "    <tr>\n",
       "      <th>4</th>\n",
       "      <td>2020-10-01 00:00:00</td>\n",
       "      <td>0</td>\n",
       "    </tr>\n",
       "  </tbody>\n",
       "</table>\n",
       "</div>"
      ],
      "text/plain": [
       "ИПЦ, мом               Период Целевой показатель\n",
       "0         2020-06-01 00:00:00               0.28\n",
       "1         2020-07-01 00:00:00             -0.065\n",
       "2         2020-08-01 00:00:00             -0.005\n",
       "3         2020-09-01 00:00:00              0.315\n",
       "4         2020-10-01 00:00:00                  0"
      ]
     },
     "execution_count": 11,
     "metadata": {},
     "output_type": "execute_result"
    }
   ],
   "source": [
    "# Evaluate baseline\n",
    "\n",
    "# Load test data\n",
    "def read_xlsx(path):\n",
    "    df = pd.read_excel(path, engine='openpyxl')\n",
    "    df = df.transpose()\n",
    "    df.columns = df.iloc[0]\n",
    "    df = df.drop(df.index[0])\n",
    "    # drop index\n",
    "    df = df.reset_index(drop=True)\n",
    "\n",
    "    return df\n",
    "\n",
    "# read data\n",
    "df_y_train = read_xlsx(f\"../data/raw/Y_train.xlsx\")\n",
    "df_y_train.head()\n"
   ]
  },
  {
   "cell_type": "code",
   "execution_count": 12,
   "metadata": {},
   "outputs": [
    {
     "name": "stdout",
     "output_type": "stream",
     "text": [
      "<class 'pandas.core.frame.DataFrame'>\n",
      "RangeIndex: 24 entries, 0 to 23\n",
      "Data columns (total 2 columns):\n",
      " #   Column              Non-Null Count  Dtype         \n",
      "---  ------              --------------  -----         \n",
      " 0   Период              24 non-null     datetime64[ns]\n",
      " 1   Целевой показатель  24 non-null     object        \n",
      "dtypes: datetime64[ns](1), object(1)\n",
      "memory usage: 512.0+ bytes\n"
     ]
    }
   ],
   "source": [
    "# Convert Период to datetime\n",
    "df_y_train['Период'] = pd.to_datetime(df_y_train['Период'])\n",
    "df_y_train.info()"
   ]
  },
  {
   "cell_type": "code",
   "execution_count": 107,
   "metadata": {},
   "outputs": [
    {
     "name": "stdout",
     "output_type": "stream",
     "text": [
      "0    2020-06-01\n",
      "1    2020-07-01\n",
      "2    2020-08-01\n",
      "3    2020-09-01\n",
      "4    2020-10-01\n",
      "5    2020-11-01\n",
      "6    2020-12-01\n",
      "7    2021-01-01\n",
      "8    2021-02-01\n",
      "9    2021-03-01\n",
      "10   2021-04-01\n",
      "11   2021-05-01\n",
      "12   2021-06-01\n",
      "13   2021-07-01\n",
      "14   2021-08-01\n",
      "15   2021-09-01\n",
      "16   2021-10-01\n",
      "17   2021-11-01\n",
      "18   2021-12-01\n",
      "19   2022-01-01\n",
      "20   2022-02-01\n",
      "21   2022-03-01\n",
      "22   2022-04-01\n",
      "23   2022-05-01\n",
      "Name: Период, dtype: datetime64[ns]\n"
     ]
    }
   ],
   "source": [
    "print(df_y_train['Период'])"
   ]
  },
  {
   "cell_type": "code",
   "execution_count": 116,
   "metadata": {},
   "outputs": [
    {
     "data": {
      "text/plain": [
       "0      0.28\n",
       "1    -0.065\n",
       "2    -0.005\n",
       "3     0.315\n",
       "4         0\n",
       "5     0.375\n",
       "6      0.35\n",
       "7      0.38\n",
       "8     0.685\n",
       "9     0.255\n",
       "10     0.13\n",
       "11    0.485\n",
       "12     0.25\n",
       "13   -0.135\n",
       "14     0.35\n",
       "15    0.345\n",
       "16    0.675\n",
       "17     0.74\n",
       "18    1.255\n",
       "19    0.355\n",
       "20    1.335\n",
       "21    3.555\n",
       "22     1.89\n",
       "23     1.56\n",
       "Name: Целевой показатель, dtype: object"
      ]
     },
     "execution_count": 116,
     "metadata": {},
     "output_type": "execute_result"
    }
   ],
   "source": [
    "df_y_train['Целевой показатель']\n"
   ]
  },
  {
   "cell_type": "code",
   "execution_count": 117,
   "metadata": {},
   "outputs": [
    {
     "name": "stdout",
     "output_type": "stream",
     "text": [
      "2020-06-01\n"
     ]
    },
    {
     "name": "stderr",
     "output_type": "stream",
     "text": [
      "0it [00:00, ?it/s]\n"
     ]
    },
    {
     "name": "stdout",
     "output_type": "stream",
     "text": [
      "check 0\n",
      "2020-07-01\n"
     ]
    },
    {
     "name": "stderr",
     "output_type": "stream",
     "text": [
      "100%|██████████| 4/4 [00:00<00:00, 426.14it/s]\n"
     ]
    },
    {
     "name": "stdout",
     "output_type": "stream",
     "text": [
      "check 1\n",
      "2020-08-01\n"
     ]
    },
    {
     "name": "stderr",
     "output_type": "stream",
     "text": [
      "100%|██████████| 2/2 [00:00<00:00, 390.31it/s]"
     ]
    },
    {
     "name": "stdout",
     "output_type": "stream",
     "text": [
      "check 2\n",
      "2020-09-01\n"
     ]
    },
    {
     "name": "stderr",
     "output_type": "stream",
     "text": [
      "\n",
      "100%|██████████| 796/796 [00:01<00:00, 411.13it/s]\n"
     ]
    },
    {
     "name": "stdout",
     "output_type": "stream",
     "text": [
      "check 3\n",
      "2020-10-01\n"
     ]
    },
    {
     "name": "stderr",
     "output_type": "stream",
     "text": [
      "100%|██████████| 766/766 [00:02<00:00, 275.39it/s]\n"
     ]
    },
    {
     "name": "stdout",
     "output_type": "stream",
     "text": [
      "check 4\n",
      "2020-11-01\n"
     ]
    },
    {
     "name": "stderr",
     "output_type": "stream",
     "text": [
      "100%|██████████| 408/408 [00:01<00:00, 294.65it/s]\n"
     ]
    },
    {
     "name": "stdout",
     "output_type": "stream",
     "text": [
      "check 5\n",
      "2020-12-01\n"
     ]
    },
    {
     "name": "stderr",
     "output_type": "stream",
     "text": [
      "100%|██████████| 418/418 [00:01<00:00, 302.79it/s]\n"
     ]
    },
    {
     "name": "stdout",
     "output_type": "stream",
     "text": [
      "check 6\n",
      "2021-01-01\n"
     ]
    },
    {
     "name": "stderr",
     "output_type": "stream",
     "text": [
      "100%|██████████| 413/413 [00:01<00:00, 312.53it/s]\n"
     ]
    },
    {
     "name": "stdout",
     "output_type": "stream",
     "text": [
      "check 7\n",
      "2021-02-01\n"
     ]
    },
    {
     "name": "stderr",
     "output_type": "stream",
     "text": [
      "100%|██████████| 648/648 [00:01<00:00, 500.25it/s]\n"
     ]
    },
    {
     "name": "stdout",
     "output_type": "stream",
     "text": [
      "check 8\n",
      "2021-03-01\n"
     ]
    },
    {
     "name": "stderr",
     "output_type": "stream",
     "text": [
      "100%|██████████| 409/409 [00:00<00:00, 487.79it/s]\n"
     ]
    },
    {
     "name": "stdout",
     "output_type": "stream",
     "text": [
      "check 9\n",
      "2021-04-01\n"
     ]
    },
    {
     "name": "stderr",
     "output_type": "stream",
     "text": [
      "0it [00:00, ?it/s]\n"
     ]
    },
    {
     "name": "stdout",
     "output_type": "stream",
     "text": [
      "check 10\n",
      "2021-05-01\n"
     ]
    },
    {
     "name": "stderr",
     "output_type": "stream",
     "text": [
      "100%|██████████| 808/808 [00:02<00:00, 326.72it/s]\n"
     ]
    },
    {
     "name": "stdout",
     "output_type": "stream",
     "text": [
      "check 11\n",
      "2021-06-01\n"
     ]
    },
    {
     "name": "stderr",
     "output_type": "stream",
     "text": [
      "100%|██████████| 796/796 [00:02<00:00, 290.82it/s]\n"
     ]
    },
    {
     "name": "stdout",
     "output_type": "stream",
     "text": [
      "check 12\n",
      "2021-07-01\n"
     ]
    },
    {
     "name": "stderr",
     "output_type": "stream",
     "text": [
      "100%|██████████| 484/484 [00:01<00:00, 274.03it/s]\n"
     ]
    },
    {
     "name": "stdout",
     "output_type": "stream",
     "text": [
      "check 13\n",
      "2021-08-01\n"
     ]
    },
    {
     "name": "stderr",
     "output_type": "stream",
     "text": [
      "100%|██████████| 414/414 [00:01<00:00, 307.68it/s]\n"
     ]
    },
    {
     "name": "stdout",
     "output_type": "stream",
     "text": [
      "check 14\n",
      "2021-09-01\n"
     ]
    },
    {
     "name": "stderr",
     "output_type": "stream",
     "text": [
      "100%|██████████| 613/613 [00:02<00:00, 269.94it/s]\n"
     ]
    },
    {
     "name": "stdout",
     "output_type": "stream",
     "text": [
      "check 15\n",
      "2021-10-01\n"
     ]
    },
    {
     "name": "stderr",
     "output_type": "stream",
     "text": [
      "100%|██████████| 798/798 [00:02<00:00, 353.94it/s]\n"
     ]
    },
    {
     "name": "stdout",
     "output_type": "stream",
     "text": [
      "check 16\n",
      "2021-11-01\n"
     ]
    },
    {
     "name": "stderr",
     "output_type": "stream",
     "text": [
      "1007it [00:03, 257.27it/s]                         \n"
     ]
    },
    {
     "name": "stdout",
     "output_type": "stream",
     "text": [
      "check 17\n",
      "2021-12-01\n"
     ]
    },
    {
     "name": "stderr",
     "output_type": "stream",
     "text": [
      "100%|██████████| 804/804 [00:02<00:00, 283.21it/s]\n"
     ]
    },
    {
     "name": "stdout",
     "output_type": "stream",
     "text": [
      "check 18\n",
      "2022-01-01\n"
     ]
    },
    {
     "name": "stderr",
     "output_type": "stream",
     "text": [
      "100%|██████████| 597/597 [00:02<00:00, 281.86it/s]\n"
     ]
    },
    {
     "name": "stdout",
     "output_type": "stream",
     "text": [
      "check 19\n",
      "2022-02-01\n"
     ]
    },
    {
     "name": "stderr",
     "output_type": "stream",
     "text": [
      "100%|██████████| 468/468 [00:01<00:00, 459.36it/s]\n"
     ]
    },
    {
     "name": "stdout",
     "output_type": "stream",
     "text": [
      "check 20\n",
      "2022-03-01\n"
     ]
    },
    {
     "name": "stderr",
     "output_type": "stream",
     "text": [
      "100%|██████████| 704/704 [00:02<00:00, 266.63it/s]\n"
     ]
    },
    {
     "name": "stdout",
     "output_type": "stream",
     "text": [
      "check 21\n",
      "2022-04-01\n"
     ]
    },
    {
     "name": "stderr",
     "output_type": "stream",
     "text": [
      "100%|██████████| 269/269 [00:00<00:00, 440.86it/s]\n"
     ]
    },
    {
     "name": "stdout",
     "output_type": "stream",
     "text": [
      "check 22\n",
      "2022-05-01\n"
     ]
    },
    {
     "name": "stderr",
     "output_type": "stream",
     "text": [
      "100%|██████████| 847/847 [00:03<00:00, 264.03it/s]\n"
     ]
    },
    {
     "name": "stdout",
     "output_type": "stream",
     "text": [
      "check 23\n"
     ]
    }
   ],
   "source": [
    "\n",
    "list_preds = []\n",
    "\n",
    "i=0\n",
    "for date in df_y_train['Период']:\n",
    "    print(date.strftime('%Y-%m-%d'))\n",
    "    list_preds.append(baseline_prediction(df_db, date.strftime('%Y-%m-%d'), k=1000))\n",
    "    print(f\"check {i}\")\n",
    "    i+=1\n"
   ]
  },
  {
   "cell_type": "code",
   "execution_count": 118,
   "metadata": {},
   "outputs": [
    {
     "data": {
      "text/plain": [
       "0.861825735612677"
      ]
     },
     "execution_count": 118,
     "metadata": {},
     "output_type": "execute_result"
    },
    {
     "ename": "",
     "evalue": "",
     "output_type": "error",
     "traceback": [
      "\u001b[1;31mThe Kernel crashed while executing code in the the current cell or a previous cell. Please review the code in the cell(s) to identify a possible cause of the failure. Click <a href='https://aka.ms/vscodeJupyterKernelCrash'>here</a> for more info. View Jupyter <a href='command:jupyter.viewOutput'>log</a> for further details."
     ]
    }
   ],
   "source": [
    "preds_df = pd.DataFrame(list_preds, columns=['pred', 'total_drops'])\n",
    "\n",
    "# Calculate mse between preds_df and df_y_train['Целевой показатель']\n",
    "from sklearn.metrics import mean_squared_error\n",
    "mean_squared_error(preds_df['pred'], df_y_train['Целевой показатель'], squared=False)\n"
   ]
  },
  {
   "cell_type": "code",
   "execution_count": null,
   "metadata": {},
   "outputs": [],
   "source": []
  },
  {
   "cell_type": "markdown",
   "metadata": {},
   "source": [
    "# Predict validation"
   ]
  },
  {
   "cell_type": "markdown",
   "metadata": {},
   "source": [
    "# "
   ]
  }
 ],
 "metadata": {
  "kernelspec": {
   "display_name": "Python 3.9.13 ('py39')",
   "language": "python",
   "name": "python3"
  },
  "language_info": {
   "codemirror_mode": {
    "name": "ipython",
    "version": 3
   },
   "file_extension": ".py",
   "mimetype": "text/x-python",
   "name": "python",
   "nbconvert_exporter": "python",
   "pygments_lexer": "ipython3",
   "version": "3.9.13"
  },
  "orig_nbformat": 4,
  "vscode": {
   "interpreter": {
    "hash": "b1ff565e3597931078b1c740699c8d9fab8d699071f2fe19c95c8e8dcc80a919"
   }
  }
 },
 "nbformat": 4,
 "nbformat_minor": 2
}
