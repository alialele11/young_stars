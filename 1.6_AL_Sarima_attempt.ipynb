{
  "cells": [
    {
      "cell_type": "code",
      "execution_count": 1,
      "metadata": {
        "colab": {
          "base_uri": "https://localhost:8080/",
          "height": 1000
        },
        "id": "bGCBd_USHj57",
        "outputId": "b2508ee7-2a6a-4a4b-e971-0b1590650b02"
      },
      "outputs": [
        {
          "name": "stdout",
          "output_type": "stream",
          "text": [
            "Collecting adtk\n",
            "  Downloading adtk-0.6.2-py3-none-any.whl (60 kB)\n",
            "\u001b[2K     \u001b[90m━━━━━━━━━━━━━━━━━━━━━━━━━━━━━━━━━━━━━━━━\u001b[0m \u001b[32m61.0/61.0 kB\u001b[0m \u001b[31m1.3 MB/s\u001b[0m eta \u001b[36m0:00:00\u001b[0ma \u001b[36m0:00:01\u001b[0m\n",
            "\u001b[?25hRequirement already satisfied: numpy>=1.15 in /home/quakumei/.conda/envs/py39/lib/python3.9/site-packages (from adtk) (1.23.3)\n",
            "Collecting tabulate>=0.8\n",
            "  Downloading tabulate-0.8.10-py3-none-any.whl (29 kB)\n",
            "Requirement already satisfied: packaging>=17.0 in /home/quakumei/.conda/envs/py39/lib/python3.9/site-packages (from adtk) (21.3)\n",
            "Requirement already satisfied: pandas>=0.23 in /home/quakumei/.conda/envs/py39/lib/python3.9/site-packages (from adtk) (1.4.4)\n",
            "Requirement already satisfied: statsmodels>=0.9 in /home/quakumei/.conda/envs/py39/lib/python3.9/site-packages (from adtk) (0.13.2)\n",
            "Requirement already satisfied: scikit-learn>=0.20 in /home/quakumei/.conda/envs/py39/lib/python3.9/site-packages (from adtk) (1.1.2)\n",
            "Requirement already satisfied: matplotlib>=3.0 in /home/quakumei/.conda/envs/py39/lib/python3.9/site-packages (from adtk) (3.5.3)\n",
            "Requirement already satisfied: cycler>=0.10 in /home/quakumei/.conda/envs/py39/lib/python3.9/site-packages (from matplotlib>=3.0->adtk) (0.11.0)\n",
            "Requirement already satisfied: python-dateutil>=2.7 in /home/quakumei/.conda/envs/py39/lib/python3.9/site-packages (from matplotlib>=3.0->adtk) (2.8.2)\n",
            "Requirement already satisfied: fonttools>=4.22.0 in /home/quakumei/.conda/envs/py39/lib/python3.9/site-packages (from matplotlib>=3.0->adtk) (4.37.1)\n",
            "Requirement already satisfied: pillow>=6.2.0 in /home/quakumei/.conda/envs/py39/lib/python3.9/site-packages (from matplotlib>=3.0->adtk) (9.2.0)\n",
            "Requirement already satisfied: kiwisolver>=1.0.1 in /home/quakumei/.conda/envs/py39/lib/python3.9/site-packages (from matplotlib>=3.0->adtk) (1.4.4)\n",
            "Requirement already satisfied: pyparsing>=2.2.1 in /home/quakumei/.conda/envs/py39/lib/python3.9/site-packages (from matplotlib>=3.0->adtk) (3.0.9)\n",
            "Requirement already satisfied: pytz>=2020.1 in /home/quakumei/.conda/envs/py39/lib/python3.9/site-packages (from pandas>=0.23->adtk) (2022.2.1)\n",
            "Requirement already satisfied: scipy>=1.3.2 in /home/quakumei/.conda/envs/py39/lib/python3.9/site-packages (from scikit-learn>=0.20->adtk) (1.9.1)\n",
            "Requirement already satisfied: joblib>=1.0.0 in /home/quakumei/.conda/envs/py39/lib/python3.9/site-packages (from scikit-learn>=0.20->adtk) (1.1.0)\n",
            "Requirement already satisfied: threadpoolctl>=2.0.0 in /home/quakumei/.conda/envs/py39/lib/python3.9/site-packages (from scikit-learn>=0.20->adtk) (3.1.0)\n",
            "Requirement already satisfied: patsy>=0.5.2 in /home/quakumei/.conda/envs/py39/lib/python3.9/site-packages (from statsmodels>=0.9->adtk) (0.5.2)\n",
            "Requirement already satisfied: six in /home/quakumei/.conda/envs/py39/lib/python3.9/site-packages (from patsy>=0.5.2->statsmodels>=0.9->adtk) (1.16.0)\n",
            "Installing collected packages: tabulate, adtk\n",
            "Successfully installed adtk-0.6.2 tabulate-0.8.10\n",
            "Collecting pmdarima\n",
            "  Downloading pmdarima-2.0.1-cp39-cp39-manylinux_2_17_x86_64.manylinux2014_x86_64.manylinux_2_28_x86_64.whl (1.9 MB)\n",
            "\u001b[2K     \u001b[90m━━━━━━━━━━━━━━━━━━━━━━━━━━━━━━━━━━━━━━━━\u001b[0m \u001b[32m1.9/1.9 MB\u001b[0m \u001b[31m2.9 MB/s\u001b[0m eta \u001b[36m0:00:00\u001b[0m00:01\u001b[0m00:01\u001b[0m\n",
            "\u001b[?25hRequirement already satisfied: scikit-learn>=0.22 in /home/quakumei/.conda/envs/py39/lib/python3.9/site-packages (from pmdarima) (1.1.2)\n",
            "Requirement already satisfied: urllib3 in /home/quakumei/.conda/envs/py39/lib/python3.9/site-packages (from pmdarima) (1.26.12)\n",
            "Requirement already satisfied: pandas>=0.19 in /home/quakumei/.conda/envs/py39/lib/python3.9/site-packages (from pmdarima) (1.4.4)\n",
            "Requirement already satisfied: numpy>=1.21 in /home/quakumei/.conda/envs/py39/lib/python3.9/site-packages (from pmdarima) (1.23.3)\n",
            "Requirement already satisfied: scipy>=1.3.2 in /home/quakumei/.conda/envs/py39/lib/python3.9/site-packages (from pmdarima) (1.9.1)\n",
            "Requirement already satisfied: statsmodels>=0.13.2 in /home/quakumei/.conda/envs/py39/lib/python3.9/site-packages (from pmdarima) (0.13.2)\n",
            "Requirement already satisfied: Cython!=0.29.18,!=0.29.31,>=0.29 in /home/quakumei/.conda/envs/py39/lib/python3.9/site-packages (from pmdarima) (0.29.32)\n",
            "Requirement already satisfied: joblib>=0.11 in /home/quakumei/.conda/envs/py39/lib/python3.9/site-packages (from pmdarima) (1.1.0)\n",
            "Requirement already satisfied: setuptools!=50.0.0,>=38.6.0 in /home/quakumei/.conda/envs/py39/lib/python3.9/site-packages (from pmdarima) (59.8.0)\n",
            "Requirement already satisfied: python-dateutil>=2.8.1 in /home/quakumei/.conda/envs/py39/lib/python3.9/site-packages (from pandas>=0.19->pmdarima) (2.8.2)\n",
            "Requirement already satisfied: pytz>=2020.1 in /home/quakumei/.conda/envs/py39/lib/python3.9/site-packages (from pandas>=0.19->pmdarima) (2022.2.1)\n",
            "Requirement already satisfied: threadpoolctl>=2.0.0 in /home/quakumei/.conda/envs/py39/lib/python3.9/site-packages (from scikit-learn>=0.22->pmdarima) (3.1.0)\n",
            "Requirement already satisfied: patsy>=0.5.2 in /home/quakumei/.conda/envs/py39/lib/python3.9/site-packages (from statsmodels>=0.13.2->pmdarima) (0.5.2)\n",
            "Requirement already satisfied: packaging>=21.3 in /home/quakumei/.conda/envs/py39/lib/python3.9/site-packages (from statsmodels>=0.13.2->pmdarima) (21.3)\n",
            "Requirement already satisfied: pyparsing!=3.0.5,>=2.0.2 in /home/quakumei/.conda/envs/py39/lib/python3.9/site-packages (from packaging>=21.3->statsmodels>=0.13.2->pmdarima) (3.0.9)\n",
            "Requirement already satisfied: six in /home/quakumei/.conda/envs/py39/lib/python3.9/site-packages (from patsy>=0.5.2->statsmodels>=0.13.2->pmdarima) (1.16.0)\n",
            "Installing collected packages: pmdarima\n",
            "Successfully installed pmdarima-2.0.1\n"
          ]
        }
      ],
      "source": [
        "!pip install adtk\n",
        "!pip install pmdarima"
      ]
    },
    {
      "cell_type": "code",
      "execution_count": 1,
      "metadata": {
        "id": "MZ0B7GGUFr07"
      },
      "outputs": [],
      "source": [
        "import pandas as pd\n",
        "import numpy as np\n",
        "from pandas.plotting import scatter_matrix\n",
        "#import time\n",
        "\n",
        "from adtk.data import validate_series\n",
        "from adtk.visualization import plot\n",
        "from adtk.detector import ThresholdAD\n",
        "from adtk.detector import OutlierDetector\n",
        "\n",
        "from sklearn.neighbors import LocalOutlierFactor\n",
        "#from sklearn.metrics import r2_score\n",
        "\n",
        "from scipy.stats import variation\n",
        "\n",
        "import seaborn as sns\n",
        "\n",
        "import matplotlib.pyplot as plt\n",
        "\n",
        "import statsmodels.api as sm\n",
        "from statsmodels.tsa.seasonal import seasonal_decompose\n",
        "from statsmodels.tsa.api import ExponentialSmoothing\n",
        "from statsmodels.tsa.stattools import adfuller\n",
        "from statsmodels.graphics.tsaplots import plot_pacf,plot_acf\n",
        "from statsmodels.stats.outliers_influence import variance_inflation_factor\n",
        "\n",
        "#from dateutil.parser import parse\n",
        "\n",
        "#import itertools\n",
        "from itertools import compress, product\n",
        "\n",
        "#import pmdarima as pm\n",
        "from pmdarima import auto_arima\n",
        "\n",
        "import warnings\n",
        "warnings.filterwarnings(\"ignore\") # specify to ignore warning messages\n",
        "\n",
        "# функция графика сезонности\n",
        "def sesonal(data, s):\n",
        "    plt.figure(figsize=(19,8), dpi= 80)\n",
        "    for i, y in enumerate(data.index.year.unique()):\n",
        "        plt.plot(list(range(1,len(data[data.index.year==y])+1)), data[data.index.year==y][data.columns[0]].values, label=y)\n",
        "    plt.title(\"Сезонность по периодам\")\n",
        "    plt.legend(loc=\"best\")\n",
        "    plt.show()\n",
        "    \n",
        "def metrics(real, forecast):\n",
        "    \n",
        "    if type(real)==pd.core.frame.DataFrame:\n",
        "        real=real[real.columns[0]].values\n",
        "    \n",
        "    print(\"Тест на стационарность:\")\n",
        "    dftest = adfuller(real-forecast, autolag='AIC')\n",
        "    print(\"\\tT-статистика = {:.3f}\".format(dftest[0]))\n",
        "    print(\"\\tP-значение = {:.3f}\".format(dftest[1]))\n",
        "    print(\"Критические значения :\")\n",
        "    for k, v in dftest[4].items():\n",
        "        print(\"\\t{}: {} - Данные {} стационарны с вероятностью {}% процентов\".format(k, v, \"не\" if v<dftest[0] else \"\", 100-int(k[:-1])))\n",
        "    \n",
        "    #real=np.array(real[real.columns[0]].values)\n",
        "    forecast=np.array(forecast)\n",
        "    print('MAD:', round(abs(real-forecast).mean(),4))\n",
        "    print('MSE:', round(((real-forecast)**2).mean(),4))\n",
        "    print('MAPE:', round((abs(real-forecast)/real).mean(),4))\n",
        "    print('MPE:', round(((real-forecast)/real).mean(),4))\n",
        "    print('Стандартная ошибка:', round(((real-forecast)**2).mean()**0.5,4)) \n",
        "    \n",
        "\n",
        "def metrics_short(real, forecast):\n",
        "    real=np.array(real[real.columns[0]].values)\n",
        "    forecast=np.array(forecast)\n",
        "    print('MAD:', round(abs(real-forecast).mean(),4))\n",
        "    print('MSE:', round(((real-forecast)**2).mean(),4))\n",
        "    print('MAPE:', round((abs(real-forecast)/real).mean(),4))\n",
        "    print('MPE:', round(((real-forecast)/real).mean(),4))\n",
        "    print('Стандартная ошибка:', round(((real-forecast)**2).mean()**0.5,4)) \n",
        "    \n",
        "def h_map(data, level):\n",
        "    corr = data.corr()\n",
        "    plt.figure(figsize=(14, 14))\n",
        "    sns.heatmap(corr[(corr >= level) | (corr <= -level)],\n",
        "            cmap=\"RdBu_r\", vmax=1.0, vmin=-1.0, linewidths=0.1,\n",
        "            annot=True, annot_kws={\"size\": 8}, square=True)\n",
        "    plt.show()\n",
        "    \n",
        "#небольшая функция для построения набора комбинаций переменных\n",
        "def combinations(items):\n",
        "    return list( set(compress(items,mask)) for mask in product(*[[0,1]]*len(items)) )\n",
        "\n",
        "def get_factors(data, Y, columns):\n",
        "\n",
        "    # колонки, которые показали свою значимость в процессе отбора критериев\n",
        "    # переменная spisCol хранит варианты комбинаций все переменных\n",
        "    spisCol=combinations(columns)\n",
        "\n",
        "    print('Количество комбинаций ', len(spisCol))\n",
        "    \n",
        "    #добавим константу в набор данных, нужна для рассчета регрессии\n",
        "    data=sm.add_constant(data)\n",
        "\n",
        "    #сохраним в этом списке данные лучших моделей\n",
        "    arr_res=[]\n",
        "\n",
        "    #пробежимся циклом по всем вариантам комбинаций\n",
        "    for c in spisCol:\n",
        "        perem=list(c)\n",
        "        flag=True\n",
        "    \n",
        "        if len(perem)==0: continue\n",
        "        \n",
        "        if not('const' in c):\n",
        "            perem.append('const')\n",
        "        \n",
        "        # если больше одного клитерия, рассчитаем VIF    \n",
        "        if len(perem)>1:\n",
        "            vif = [variance_inflation_factor(data[perem].values, i) for i in range(data[perem].shape[1])]\n",
        "        else:\n",
        "            vif=[]\n",
        "    \n",
        "        #проверим список VIF, если хоть одна переменная больше 1000 (очень большое значение, на самом деле),\n",
        "        #то в модели присутсвует мультиколлинераность\n",
        "        for vv in vif:\n",
        "            if vv>1000: \n",
        "                flag=False\n",
        "        \n",
        "        #посчитаем саму модель\n",
        "        reg = sm.OLS(Y, data[perem])\n",
        "        res=reg.fit()\n",
        "\n",
        "        #отбросим нулевую гипотезу для всех регрессоров конкретной модели\n",
        "        for val in res.tvalues:\n",
        "            if val<2 and val>-2:\n",
        "                flag=False\n",
        "                break\n",
        "        for val in res.pvalues:\n",
        "            if val>0.05:\n",
        "                flag=False\n",
        "                break\n",
        "        #если нулевую гипотезу отбросили и VIF в норме, сохраним результаты\n",
        "        if flag:\n",
        "            re=np.array(res.fittedvalues.copy())\n",
        "            MSE=((np.array(Y)-re)**2).sum()/len(re)\n",
        "            \n",
        "            MAPE=(abs((np.array(Y)-re)/np.array(Y))).sum()/len(re)\n",
        "        \n",
        "            arr_res.append([round(MSE,4), res.rsquared, perem])\n",
        "\n",
        "    #отсортируем и выведем результаты\n",
        "    arr_res.sort()\n",
        "    df_model=pd.DataFrame(arr_res, columns=['MSE', 'r2', 'Переменные'])\n",
        "    print('Результаты перебора в порядке возрастания MSE:')\n",
        "    print(df_model)\n",
        "    return df_model"
      ]
    },
    {
      "cell_type": "code",
      "execution_count": 9,
      "metadata": {},
      "outputs": [
        {
          "data": {
            "text/html": [
              "<div>\n",
              "<style scoped>\n",
              "    .dataframe tbody tr th:only-of-type {\n",
              "        vertical-align: middle;\n",
              "    }\n",
              "\n",
              "    .dataframe tbody tr th {\n",
              "        vertical-align: top;\n",
              "    }\n",
              "\n",
              "    .dataframe thead th {\n",
              "        text-align: right;\n",
              "    }\n",
              "</style>\n",
              "<table border=\"1\" class=\"dataframe\">\n",
              "  <thead>\n",
              "    <tr style=\"text-align: right;\">\n",
              "      <th>ИПЦ, мом</th>\n",
              "      <th>Период</th>\n",
              "      <th>Целевой показатель</th>\n",
              "    </tr>\n",
              "  </thead>\n",
              "  <tbody>\n",
              "    <tr>\n",
              "      <th>0</th>\n",
              "      <td>2020-06-01 00:00:00</td>\n",
              "      <td>0.28</td>\n",
              "    </tr>\n",
              "    <tr>\n",
              "      <th>1</th>\n",
              "      <td>2020-07-01 00:00:00</td>\n",
              "      <td>-0.065</td>\n",
              "    </tr>\n",
              "    <tr>\n",
              "      <th>2</th>\n",
              "      <td>2020-08-01 00:00:00</td>\n",
              "      <td>-0.005</td>\n",
              "    </tr>\n",
              "    <tr>\n",
              "      <th>3</th>\n",
              "      <td>2020-09-01 00:00:00</td>\n",
              "      <td>0.315</td>\n",
              "    </tr>\n",
              "    <tr>\n",
              "      <th>4</th>\n",
              "      <td>2020-10-01 00:00:00</td>\n",
              "      <td>0</td>\n",
              "    </tr>\n",
              "  </tbody>\n",
              "</table>\n",
              "</div>"
            ],
            "text/plain": [
              "ИПЦ, мом               Период Целевой показатель\n",
              "0         2020-06-01 00:00:00               0.28\n",
              "1         2020-07-01 00:00:00             -0.065\n",
              "2         2020-08-01 00:00:00             -0.005\n",
              "3         2020-09-01 00:00:00              0.315\n",
              "4         2020-10-01 00:00:00                  0"
            ]
          },
          "execution_count": 9,
          "metadata": {},
          "output_type": "execute_result"
        }
      ],
      "source": [
        "# import read data from xlsx in pandas,\n",
        "# rotate and use first row as header\n",
        "def read_xlsx(path):\n",
        "    df = pd.read_excel(path, engine='openpyxl')\n",
        "    df = df.transpose()\n",
        "    df.columns = df.iloc[0]\n",
        "    df = df.drop(df.index[0])\n",
        "    # drop index\n",
        "    df = df.reset_index(drop=True)\n",
        "\n",
        "    return df\n",
        "\n",
        "# read data\n",
        "df_y_train = read_xlsx(f\"../data/raw/Y_train.xlsx\")\n",
        "df_y_train.head()"
      ]
    },
    {
      "cell_type": "code",
      "execution_count": 10,
      "metadata": {},
      "outputs": [],
      "source": [
        "# Convert Период to datetime\n",
        "df_y_train['Период'] = pd.to_datetime(df_y_train['Период'], format='%Y-%m-%d')\n"
      ]
    },
    {
      "cell_type": "code",
      "execution_count": 11,
      "metadata": {
        "id": "AElEtFCHHKo_"
      },
      "outputs": [
        {
          "data": {
            "text/html": [
              "<div>\n",
              "<style scoped>\n",
              "    .dataframe tbody tr th:only-of-type {\n",
              "        vertical-align: middle;\n",
              "    }\n",
              "\n",
              "    .dataframe tbody tr th {\n",
              "        vertical-align: top;\n",
              "    }\n",
              "\n",
              "    .dataframe thead th {\n",
              "        text-align: right;\n",
              "    }\n",
              "</style>\n",
              "<table border=\"1\" class=\"dataframe\">\n",
              "  <thead>\n",
              "    <tr style=\"text-align: right;\">\n",
              "      <th>ИПЦ, мом</th>\n",
              "      <th>Период</th>\n",
              "      <th>Целевой показатель</th>\n",
              "    </tr>\n",
              "  </thead>\n",
              "  <tbody>\n",
              "    <tr>\n",
              "      <th>0</th>\n",
              "      <td>2020-06-01</td>\n",
              "      <td>0.28</td>\n",
              "    </tr>\n",
              "    <tr>\n",
              "      <th>1</th>\n",
              "      <td>2020-07-01</td>\n",
              "      <td>-0.065</td>\n",
              "    </tr>\n",
              "    <tr>\n",
              "      <th>2</th>\n",
              "      <td>2020-08-01</td>\n",
              "      <td>-0.005</td>\n",
              "    </tr>\n",
              "    <tr>\n",
              "      <th>3</th>\n",
              "      <td>2020-09-01</td>\n",
              "      <td>0.315</td>\n",
              "    </tr>\n",
              "    <tr>\n",
              "      <th>4</th>\n",
              "      <td>2020-10-01</td>\n",
              "      <td>0</td>\n",
              "    </tr>\n",
              "  </tbody>\n",
              "</table>\n",
              "</div>"
            ],
            "text/plain": [
              "ИПЦ, мом     Период Целевой показатель\n",
              "0        2020-06-01               0.28\n",
              "1        2020-07-01             -0.065\n",
              "2        2020-08-01             -0.005\n",
              "3        2020-09-01              0.315\n",
              "4        2020-10-01                  0"
            ]
          },
          "execution_count": 11,
          "metadata": {},
          "output_type": "execute_result"
        }
      ],
      "source": [
        "df_y_train.set_index('Период')\n",
        "df_y_train.head()"
      ]
    },
    {
      "cell_type": "code",
      "execution_count": 13,
      "metadata": {},
      "outputs": [
        {
          "name": "stdout",
          "output_type": "stream",
          "text": [
            "<class 'pandas.core.frame.DataFrame'>\n",
            "RangeIndex: 24 entries, 0 to 23\n",
            "Data columns (total 2 columns):\n",
            " #   Column              Non-Null Count  Dtype         \n",
            "---  ------              --------------  -----         \n",
            " 0   Период              24 non-null     datetime64[ns]\n",
            " 1   Целевой показатель  24 non-null     object        \n",
            "dtypes: datetime64[ns](1), object(1)\n",
            "memory usage: 512.0+ bytes\n"
          ]
        }
      ],
      "source": [
        "df_y_train.info()"
      ]
    },
    {
      "cell_type": "code",
      "execution_count": 12,
      "metadata": {
        "id": "KfweVECXRRoP"
      },
      "outputs": [
        {
          "ename": "TypeError",
          "evalue": "cannot do slice indexing on RangeIndex with these indexers [2020-01-01] of type str",
          "output_type": "error",
          "traceback": [
            "\u001b[0;31m---------------------------------------------------------------------------\u001b[0m",
            "\u001b[0;31mTypeError\u001b[0m                                 Traceback (most recent call last)",
            "Cell \u001b[0;32mIn [12], line 3\u001b[0m\n\u001b[1;32m      1\u001b[0m start_date \u001b[38;5;241m=\u001b[39m \u001b[38;5;124m'\u001b[39m\u001b[38;5;124m2020-01-01\u001b[39m\u001b[38;5;124m'\u001b[39m\n\u001b[1;32m      2\u001b[0m end_date \u001b[38;5;241m=\u001b[39m \u001b[38;5;124m'\u001b[39m\u001b[38;5;124m2022-01-01\u001b[39m\u001b[38;5;124m'\u001b[39m\n\u001b[0;32m----> 3\u001b[0m train \u001b[38;5;241m=\u001b[39m \u001b[43mdf_y_train\u001b[49m\u001b[43m[\u001b[49m\u001b[43mstart_date\u001b[49m\u001b[43m:\u001b[49m\u001b[43mend_date\u001b[49m\u001b[43m]\u001b[49m\n",
            "File \u001b[0;32m~/.conda/envs/py39/lib/python3.9/site-packages/pandas/core/frame.py:3477\u001b[0m, in \u001b[0;36mDataFrame.__getitem__\u001b[0;34m(self, key)\u001b[0m\n\u001b[1;32m   3474\u001b[0m         \u001b[39mreturn\u001b[39;00m \u001b[39mself\u001b[39m\u001b[39m.\u001b[39m_get_item_cache(key)\n\u001b[1;32m   3476\u001b[0m \u001b[39m# Do we have a slicer (on rows)?\u001b[39;00m\n\u001b[0;32m-> 3477\u001b[0m indexer \u001b[39m=\u001b[39m convert_to_index_sliceable(\u001b[39mself\u001b[39;49m, key)\n\u001b[1;32m   3478\u001b[0m \u001b[39mif\u001b[39;00m indexer \u001b[39mis\u001b[39;00m \u001b[39mnot\u001b[39;00m \u001b[39mNone\u001b[39;00m:\n\u001b[1;32m   3479\u001b[0m     \u001b[39mif\u001b[39;00m \u001b[39misinstance\u001b[39m(indexer, np\u001b[39m.\u001b[39mndarray):\n",
            "File \u001b[0;32m~/.conda/envs/py39/lib/python3.9/site-packages/pandas/core/indexing.py:2329\u001b[0m, in \u001b[0;36mconvert_to_index_sliceable\u001b[0;34m(obj, key)\u001b[0m\n\u001b[1;32m   2327\u001b[0m idx \u001b[39m=\u001b[39m obj\u001b[39m.\u001b[39mindex\n\u001b[1;32m   2328\u001b[0m \u001b[39mif\u001b[39;00m \u001b[39misinstance\u001b[39m(key, \u001b[39mslice\u001b[39m):\n\u001b[0;32m-> 2329\u001b[0m     \u001b[39mreturn\u001b[39;00m idx\u001b[39m.\u001b[39;49m_convert_slice_indexer(key, kind\u001b[39m=\u001b[39;49m\u001b[39m\"\u001b[39;49m\u001b[39mgetitem\u001b[39;49m\u001b[39m\"\u001b[39;49m)\n\u001b[1;32m   2331\u001b[0m \u001b[39melif\u001b[39;00m \u001b[39misinstance\u001b[39m(key, \u001b[39mstr\u001b[39m):\n\u001b[1;32m   2332\u001b[0m \n\u001b[1;32m   2333\u001b[0m     \u001b[39m# we are an actual column\u001b[39;00m\n\u001b[1;32m   2334\u001b[0m     \u001b[39mif\u001b[39;00m key \u001b[39min\u001b[39;00m obj\u001b[39m.\u001b[39mcolumns:\n",
            "File \u001b[0;32m~/.conda/envs/py39/lib/python3.9/site-packages/pandas/core/indexes/numeric.py:279\u001b[0m, in \u001b[0;36mNumericIndex._convert_slice_indexer\u001b[0;34m(self, key, kind)\u001b[0m\n\u001b[1;32m    275\u001b[0m     \u001b[39m# We always treat __getitem__ slicing as label-based\u001b[39;00m\n\u001b[1;32m    276\u001b[0m     \u001b[39m# translate to locations\u001b[39;00m\n\u001b[1;32m    277\u001b[0m     \u001b[39mreturn\u001b[39;00m \u001b[39mself\u001b[39m\u001b[39m.\u001b[39mslice_indexer(key\u001b[39m.\u001b[39mstart, key\u001b[39m.\u001b[39mstop, key\u001b[39m.\u001b[39mstep)\n\u001b[0;32m--> 279\u001b[0m \u001b[39mreturn\u001b[39;00m \u001b[39msuper\u001b[39;49m()\u001b[39m.\u001b[39;49m_convert_slice_indexer(key, kind\u001b[39m=\u001b[39;49mkind)\n",
            "File \u001b[0;32m~/.conda/envs/py39/lib/python3.9/site-packages/pandas/core/indexes/base.py:4055\u001b[0m, in \u001b[0;36mIndex._convert_slice_indexer\u001b[0;34m(self, key, kind)\u001b[0m\n\u001b[1;32m   4050\u001b[0m \u001b[39m\"\"\"\u001b[39;00m\n\u001b[1;32m   4051\u001b[0m \u001b[39mcalled from the getitem slicers, validate that we are in fact\u001b[39;00m\n\u001b[1;32m   4052\u001b[0m \u001b[39mintegers\u001b[39;00m\n\u001b[1;32m   4053\u001b[0m \u001b[39m\"\"\"\u001b[39;00m\n\u001b[1;32m   4054\u001b[0m \u001b[39mif\u001b[39;00m \u001b[39mself\u001b[39m\u001b[39m.\u001b[39mis_integer() \u001b[39mor\u001b[39;00m is_index_slice:\n\u001b[0;32m-> 4055\u001b[0m     \u001b[39mself\u001b[39;49m\u001b[39m.\u001b[39;49m_validate_indexer(\u001b[39m\"\u001b[39;49m\u001b[39mslice\u001b[39;49m\u001b[39m\"\u001b[39;49m, key\u001b[39m.\u001b[39;49mstart, \u001b[39m\"\u001b[39;49m\u001b[39mgetitem\u001b[39;49m\u001b[39m\"\u001b[39;49m)\n\u001b[1;32m   4056\u001b[0m     \u001b[39mself\u001b[39m\u001b[39m.\u001b[39m_validate_indexer(\u001b[39m\"\u001b[39m\u001b[39mslice\u001b[39m\u001b[39m\"\u001b[39m, key\u001b[39m.\u001b[39mstop, \u001b[39m\"\u001b[39m\u001b[39mgetitem\u001b[39m\u001b[39m\"\u001b[39m)\n\u001b[1;32m   4057\u001b[0m     \u001b[39mself\u001b[39m\u001b[39m.\u001b[39m_validate_indexer(\u001b[39m\"\u001b[39m\u001b[39mslice\u001b[39m\u001b[39m\"\u001b[39m, key\u001b[39m.\u001b[39mstep, \u001b[39m\"\u001b[39m\u001b[39mgetitem\u001b[39m\u001b[39m\"\u001b[39m)\n",
            "File \u001b[0;32m~/.conda/envs/py39/lib/python3.9/site-packages/pandas/core/indexes/base.py:6322\u001b[0m, in \u001b[0;36mIndex._validate_indexer\u001b[0;34m(self, form, key, kind)\u001b[0m\n\u001b[1;32m   6319\u001b[0m \u001b[39massert\u001b[39;00m kind \u001b[39min\u001b[39;00m [\u001b[39m\"\u001b[39m\u001b[39mgetitem\u001b[39m\u001b[39m\"\u001b[39m, \u001b[39m\"\u001b[39m\u001b[39miloc\u001b[39m\u001b[39m\"\u001b[39m]\n\u001b[1;32m   6321\u001b[0m \u001b[39mif\u001b[39;00m key \u001b[39mis\u001b[39;00m \u001b[39mnot\u001b[39;00m \u001b[39mNone\u001b[39;00m \u001b[39mand\u001b[39;00m \u001b[39mnot\u001b[39;00m is_integer(key):\n\u001b[0;32m-> 6322\u001b[0m     \u001b[39mraise\u001b[39;00m \u001b[39mself\u001b[39m\u001b[39m.\u001b[39m_invalid_indexer(form, key)\n",
            "\u001b[0;31mTypeError\u001b[0m: cannot do slice indexing on RangeIndex with these indexers [2020-01-01] of type str"
          ]
        }
      ],
      "source": [
        "start_date = '2020-01-01'\n",
        "end_date = '2022-01-01'\n",
        "train = df_y_train[start_date:end_date]"
      ]
    },
    {
      "cell_type": "code",
      "execution_count": null,
      "metadata": {
        "id": "bDabF5NJGe7X"
      },
      "outputs": [],
      "source": [
        "model = auto_arima(train, seasonal=True, m=12, trace=True, suppress_warnings=True, error_action='ignore', stepwise=True)\n",
        "model"
      ]
    },
    {
      "cell_type": "code",
      "execution_count": null,
      "metadata": {
        "id": "ljWoOXaGO3Tq"
      },
      "outputs": [],
      "source": [
        "mod = sm.tsa.statespace.SARIMAX(train,\n",
        "                                order=(1, 0, 0),\n",
        "                                seasonal_order=(2, 0, 0, 12))\n",
        "\n",
        "results = mod.fit()\n",
        "\n",
        "print(results.summary().tables[1])"
      ]
    },
    {
      "cell_type": "code",
      "execution_count": null,
      "metadata": {
        "id": "ogMOihjpQsZN"
      },
      "outputs": [],
      "source": [
        "results.plot_diagnostics(figsize=(15, 12))\n",
        "plt.show()"
      ]
    },
    {
      "cell_type": "code",
      "execution_count": null,
      "metadata": {
        "id": "L77mzlMoQw53"
      },
      "outputs": [],
      "source": [
        "predict=results.get_prediction()\n",
        "predict.predicted_mean[:10]"
      ]
    },
    {
      "cell_type": "code",
      "execution_count": null,
      "metadata": {
        "id": "qxs1tVtnZ4nn"
      },
      "outputs": [],
      "source": [
        "predict=results.get_prediction(start='2014-02-01')\n",
        "metrics(train['2014-02-01':], predict.predicted_mean)"
      ]
    },
    {
      "cell_type": "code",
      "execution_count": null,
      "metadata": {
        "id": "hDd6XnUyaHbM"
      },
      "outputs": [],
      "source": [
        "predict=results.get_prediction(start='2019', end='2021')"
      ]
    },
    {
      "cell_type": "code",
      "execution_count": null,
      "metadata": {
        "id": "0LjWZbVIaNBq"
      },
      "outputs": [],
      "source": [
        "ax = df_y_train.plot(figsize=(15,6), color='black', title=\"Прогноз методом SARIMA\" )\n",
        "results.fittedvalues.plot(ax=ax, style='--', color='red')\n",
        "predict.predicted_mean.plot(ax=ax, style='--', color='green')\n",
        "plt.show()"
      ]
    },
    {
      "cell_type": "code",
      "execution_count": null,
      "metadata": {
        "id": "fxXyWPq0aOHb"
      },
      "outputs": [],
      "source": []
    }
  ],
  "metadata": {
    "colab": {
      "provenance": []
    },
    "kernelspec": {
      "display_name": "Python 3.9.13 ('py39')",
      "language": "python",
      "name": "python3"
    },
    "language_info": {
      "codemirror_mode": {
        "name": "ipython",
        "version": 3
      },
      "file_extension": ".py",
      "mimetype": "text/x-python",
      "name": "python",
      "nbconvert_exporter": "python",
      "pygments_lexer": "ipython3",
      "version": "3.9.13"
    },
    "vscode": {
      "interpreter": {
        "hash": "b1ff565e3597931078b1c740699c8d9fab8d699071f2fe19c95c8e8dcc80a919"
      }
    }
  },
  "nbformat": 4,
  "nbformat_minor": 0
}
